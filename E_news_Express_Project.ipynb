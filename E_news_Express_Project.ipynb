{
  "nbformat": 4,
  "nbformat_minor": 0,
  "metadata": {
    "colab": {
      "provenance": [],
      "collapsed_sections": [
        "rsAm9PsjNUlV",
        "GHqGIJI3j16t",
        "Cba5V7h713vS",
        "zyhnPoYj1-Jt"
      ],
      "mount_file_id": "1OPSgGp7mbpYOWlidmm_ughI4tO85KwlL",
      "authorship_tag": "ABX9TyOpMQ9J8NrPJRfGXNyyu2fk",
      "include_colab_link": true
    },
    "kernelspec": {
      "name": "python3",
      "display_name": "Python 3"
    },
    "language_info": {
      "name": "python"
    }
  },
  "cells": [
    {
      "cell_type": "markdown",
      "metadata": {
        "id": "view-in-github",
        "colab_type": "text"
      },
      "source": [
        "<a href=\"https://colab.research.google.com/github/PradeepkumarNR/BasicThingsInJava/blob/master/E_news_Express_Project.ipynb\" target=\"_parent\"><img src=\"https://colab.research.google.com/assets/colab-badge.svg\" alt=\"Open In Colab\"/></a>"
      ]
    },
    {
      "cell_type": "markdown",
      "source": [
        "#  Basic Operations"
      ],
      "metadata": {
        "id": "-BD36c0lKnNe"
      }
    },
    {
      "cell_type": "code",
      "source": [
        "import numpy as np\n",
        "import pandas as pd\n",
        "import matplotlib.pyplot as plt\n",
        "import seaborn as sns\n",
        "from scipy.stats import chi2_contingency"
      ],
      "metadata": {
        "id": "WaTTd8KlKuCz"
      },
      "execution_count": 2,
      "outputs": []
    },
    {
      "cell_type": "markdown",
      "source": [
        "Import data"
      ],
      "metadata": {
        "id": "bNjMsPHbLF36"
      }
    },
    {
      "cell_type": "code",
      "source": [
        "df = pd.read_csv('/content/drive/MyDrive/Pythoncourse/abtest.csv')"
      ],
      "metadata": {
        "id": "jJVO8K3zLHi-"
      },
      "execution_count": 4,
      "outputs": []
    },
    {
      "cell_type": "code",
      "source": [
        "df.head()"
      ],
      "metadata": {
        "colab": {
          "base_uri": "https://localhost:8080/",
          "height": 206
        },
        "id": "_gdQupPTMQjk",
        "outputId": "f058eb09-d3df-4077-df3b-ca7b0022fd3d"
      },
      "execution_count": 5,
      "outputs": [
        {
          "output_type": "execute_result",
          "data": {
            "text/plain": [
              "   user_id      group landing_page  time_spent_on_the_page converted  \\\n",
              "0   546592    control          old                    3.48        no   \n",
              "1   546468  treatment          new                    7.13       yes   \n",
              "2   546462  treatment          new                    4.40        no   \n",
              "3   546567    control          old                    3.02        no   \n",
              "4   546459  treatment          new                    4.75       yes   \n",
              "\n",
              "  language_preferred  \n",
              "0            Spanish  \n",
              "1            English  \n",
              "2            Spanish  \n",
              "3             French  \n",
              "4            Spanish  "
            ],
            "text/html": [
              "\n",
              "  <div id=\"df-628e268f-a60f-4190-9ae7-73eae701b3d7\" class=\"colab-df-container\">\n",
              "    <div>\n",
              "<style scoped>\n",
              "    .dataframe tbody tr th:only-of-type {\n",
              "        vertical-align: middle;\n",
              "    }\n",
              "\n",
              "    .dataframe tbody tr th {\n",
              "        vertical-align: top;\n",
              "    }\n",
              "\n",
              "    .dataframe thead th {\n",
              "        text-align: right;\n",
              "    }\n",
              "</style>\n",
              "<table border=\"1\" class=\"dataframe\">\n",
              "  <thead>\n",
              "    <tr style=\"text-align: right;\">\n",
              "      <th></th>\n",
              "      <th>user_id</th>\n",
              "      <th>group</th>\n",
              "      <th>landing_page</th>\n",
              "      <th>time_spent_on_the_page</th>\n",
              "      <th>converted</th>\n",
              "      <th>language_preferred</th>\n",
              "    </tr>\n",
              "  </thead>\n",
              "  <tbody>\n",
              "    <tr>\n",
              "      <th>0</th>\n",
              "      <td>546592</td>\n",
              "      <td>control</td>\n",
              "      <td>old</td>\n",
              "      <td>3.48</td>\n",
              "      <td>no</td>\n",
              "      <td>Spanish</td>\n",
              "    </tr>\n",
              "    <tr>\n",
              "      <th>1</th>\n",
              "      <td>546468</td>\n",
              "      <td>treatment</td>\n",
              "      <td>new</td>\n",
              "      <td>7.13</td>\n",
              "      <td>yes</td>\n",
              "      <td>English</td>\n",
              "    </tr>\n",
              "    <tr>\n",
              "      <th>2</th>\n",
              "      <td>546462</td>\n",
              "      <td>treatment</td>\n",
              "      <td>new</td>\n",
              "      <td>4.40</td>\n",
              "      <td>no</td>\n",
              "      <td>Spanish</td>\n",
              "    </tr>\n",
              "    <tr>\n",
              "      <th>3</th>\n",
              "      <td>546567</td>\n",
              "      <td>control</td>\n",
              "      <td>old</td>\n",
              "      <td>3.02</td>\n",
              "      <td>no</td>\n",
              "      <td>French</td>\n",
              "    </tr>\n",
              "    <tr>\n",
              "      <th>4</th>\n",
              "      <td>546459</td>\n",
              "      <td>treatment</td>\n",
              "      <td>new</td>\n",
              "      <td>4.75</td>\n",
              "      <td>yes</td>\n",
              "      <td>Spanish</td>\n",
              "    </tr>\n",
              "  </tbody>\n",
              "</table>\n",
              "</div>\n",
              "    <div class=\"colab-df-buttons\">\n",
              "\n",
              "  <div class=\"colab-df-container\">\n",
              "    <button class=\"colab-df-convert\" onclick=\"convertToInteractive('df-628e268f-a60f-4190-9ae7-73eae701b3d7')\"\n",
              "            title=\"Convert this dataframe to an interactive table.\"\n",
              "            style=\"display:none;\">\n",
              "\n",
              "  <svg xmlns=\"http://www.w3.org/2000/svg\" height=\"24px\" viewBox=\"0 -960 960 960\">\n",
              "    <path d=\"M120-120v-720h720v720H120Zm60-500h600v-160H180v160Zm220 220h160v-160H400v160Zm0 220h160v-160H400v160ZM180-400h160v-160H180v160Zm440 0h160v-160H620v160ZM180-180h160v-160H180v160Zm440 0h160v-160H620v160Z\"/>\n",
              "  </svg>\n",
              "    </button>\n",
              "\n",
              "  <style>\n",
              "    .colab-df-container {\n",
              "      display:flex;\n",
              "      gap: 12px;\n",
              "    }\n",
              "\n",
              "    .colab-df-convert {\n",
              "      background-color: #E8F0FE;\n",
              "      border: none;\n",
              "      border-radius: 50%;\n",
              "      cursor: pointer;\n",
              "      display: none;\n",
              "      fill: #1967D2;\n",
              "      height: 32px;\n",
              "      padding: 0 0 0 0;\n",
              "      width: 32px;\n",
              "    }\n",
              "\n",
              "    .colab-df-convert:hover {\n",
              "      background-color: #E2EBFA;\n",
              "      box-shadow: 0px 1px 2px rgba(60, 64, 67, 0.3), 0px 1px 3px 1px rgba(60, 64, 67, 0.15);\n",
              "      fill: #174EA6;\n",
              "    }\n",
              "\n",
              "    .colab-df-buttons div {\n",
              "      margin-bottom: 4px;\n",
              "    }\n",
              "\n",
              "    [theme=dark] .colab-df-convert {\n",
              "      background-color: #3B4455;\n",
              "      fill: #D2E3FC;\n",
              "    }\n",
              "\n",
              "    [theme=dark] .colab-df-convert:hover {\n",
              "      background-color: #434B5C;\n",
              "      box-shadow: 0px 1px 3px 1px rgba(0, 0, 0, 0.15);\n",
              "      filter: drop-shadow(0px 1px 2px rgba(0, 0, 0, 0.3));\n",
              "      fill: #FFFFFF;\n",
              "    }\n",
              "  </style>\n",
              "\n",
              "    <script>\n",
              "      const buttonEl =\n",
              "        document.querySelector('#df-628e268f-a60f-4190-9ae7-73eae701b3d7 button.colab-df-convert');\n",
              "      buttonEl.style.display =\n",
              "        google.colab.kernel.accessAllowed ? 'block' : 'none';\n",
              "\n",
              "      async function convertToInteractive(key) {\n",
              "        const element = document.querySelector('#df-628e268f-a60f-4190-9ae7-73eae701b3d7');\n",
              "        const dataTable =\n",
              "          await google.colab.kernel.invokeFunction('convertToInteractive',\n",
              "                                                    [key], {});\n",
              "        if (!dataTable) return;\n",
              "\n",
              "        const docLinkHtml = 'Like what you see? Visit the ' +\n",
              "          '<a target=\"_blank\" href=https://colab.research.google.com/notebooks/data_table.ipynb>data table notebook</a>'\n",
              "          + ' to learn more about interactive tables.';\n",
              "        element.innerHTML = '';\n",
              "        dataTable['output_type'] = 'display_data';\n",
              "        await google.colab.output.renderOutput(dataTable, element);\n",
              "        const docLink = document.createElement('div');\n",
              "        docLink.innerHTML = docLinkHtml;\n",
              "        element.appendChild(docLink);\n",
              "      }\n",
              "    </script>\n",
              "  </div>\n",
              "\n",
              "\n",
              "<div id=\"df-bf29462d-8340-4c99-9c06-8d5d66ee85b5\">\n",
              "  <button class=\"colab-df-quickchart\" onclick=\"quickchart('df-bf29462d-8340-4c99-9c06-8d5d66ee85b5')\"\n",
              "            title=\"Suggest charts\"\n",
              "            style=\"display:none;\">\n",
              "\n",
              "<svg xmlns=\"http://www.w3.org/2000/svg\" height=\"24px\"viewBox=\"0 0 24 24\"\n",
              "     width=\"24px\">\n",
              "    <g>\n",
              "        <path d=\"M19 3H5c-1.1 0-2 .9-2 2v14c0 1.1.9 2 2 2h14c1.1 0 2-.9 2-2V5c0-1.1-.9-2-2-2zM9 17H7v-7h2v7zm4 0h-2V7h2v10zm4 0h-2v-4h2v4z\"/>\n",
              "    </g>\n",
              "</svg>\n",
              "  </button>\n",
              "\n",
              "<style>\n",
              "  .colab-df-quickchart {\n",
              "      --bg-color: #E8F0FE;\n",
              "      --fill-color: #1967D2;\n",
              "      --hover-bg-color: #E2EBFA;\n",
              "      --hover-fill-color: #174EA6;\n",
              "      --disabled-fill-color: #AAA;\n",
              "      --disabled-bg-color: #DDD;\n",
              "  }\n",
              "\n",
              "  [theme=dark] .colab-df-quickchart {\n",
              "      --bg-color: #3B4455;\n",
              "      --fill-color: #D2E3FC;\n",
              "      --hover-bg-color: #434B5C;\n",
              "      --hover-fill-color: #FFFFFF;\n",
              "      --disabled-bg-color: #3B4455;\n",
              "      --disabled-fill-color: #666;\n",
              "  }\n",
              "\n",
              "  .colab-df-quickchart {\n",
              "    background-color: var(--bg-color);\n",
              "    border: none;\n",
              "    border-radius: 50%;\n",
              "    cursor: pointer;\n",
              "    display: none;\n",
              "    fill: var(--fill-color);\n",
              "    height: 32px;\n",
              "    padding: 0;\n",
              "    width: 32px;\n",
              "  }\n",
              "\n",
              "  .colab-df-quickchart:hover {\n",
              "    background-color: var(--hover-bg-color);\n",
              "    box-shadow: 0 1px 2px rgba(60, 64, 67, 0.3), 0 1px 3px 1px rgba(60, 64, 67, 0.15);\n",
              "    fill: var(--button-hover-fill-color);\n",
              "  }\n",
              "\n",
              "  .colab-df-quickchart-complete:disabled,\n",
              "  .colab-df-quickchart-complete:disabled:hover {\n",
              "    background-color: var(--disabled-bg-color);\n",
              "    fill: var(--disabled-fill-color);\n",
              "    box-shadow: none;\n",
              "  }\n",
              "\n",
              "  .colab-df-spinner {\n",
              "    border: 2px solid var(--fill-color);\n",
              "    border-color: transparent;\n",
              "    border-bottom-color: var(--fill-color);\n",
              "    animation:\n",
              "      spin 1s steps(1) infinite;\n",
              "  }\n",
              "\n",
              "  @keyframes spin {\n",
              "    0% {\n",
              "      border-color: transparent;\n",
              "      border-bottom-color: var(--fill-color);\n",
              "      border-left-color: var(--fill-color);\n",
              "    }\n",
              "    20% {\n",
              "      border-color: transparent;\n",
              "      border-left-color: var(--fill-color);\n",
              "      border-top-color: var(--fill-color);\n",
              "    }\n",
              "    30% {\n",
              "      border-color: transparent;\n",
              "      border-left-color: var(--fill-color);\n",
              "      border-top-color: var(--fill-color);\n",
              "      border-right-color: var(--fill-color);\n",
              "    }\n",
              "    40% {\n",
              "      border-color: transparent;\n",
              "      border-right-color: var(--fill-color);\n",
              "      border-top-color: var(--fill-color);\n",
              "    }\n",
              "    60% {\n",
              "      border-color: transparent;\n",
              "      border-right-color: var(--fill-color);\n",
              "    }\n",
              "    80% {\n",
              "      border-color: transparent;\n",
              "      border-right-color: var(--fill-color);\n",
              "      border-bottom-color: var(--fill-color);\n",
              "    }\n",
              "    90% {\n",
              "      border-color: transparent;\n",
              "      border-bottom-color: var(--fill-color);\n",
              "    }\n",
              "  }\n",
              "</style>\n",
              "\n",
              "  <script>\n",
              "    async function quickchart(key) {\n",
              "      const quickchartButtonEl =\n",
              "        document.querySelector('#' + key + ' button');\n",
              "      quickchartButtonEl.disabled = true;  // To prevent multiple clicks.\n",
              "      quickchartButtonEl.classList.add('colab-df-spinner');\n",
              "      try {\n",
              "        const charts = await google.colab.kernel.invokeFunction(\n",
              "            'suggestCharts', [key], {});\n",
              "      } catch (error) {\n",
              "        console.error('Error during call to suggestCharts:', error);\n",
              "      }\n",
              "      quickchartButtonEl.classList.remove('colab-df-spinner');\n",
              "      quickchartButtonEl.classList.add('colab-df-quickchart-complete');\n",
              "    }\n",
              "    (() => {\n",
              "      let quickchartButtonEl =\n",
              "        document.querySelector('#df-bf29462d-8340-4c99-9c06-8d5d66ee85b5 button');\n",
              "      quickchartButtonEl.style.display =\n",
              "        google.colab.kernel.accessAllowed ? 'block' : 'none';\n",
              "    })();\n",
              "  </script>\n",
              "</div>\n",
              "\n",
              "    </div>\n",
              "  </div>\n"
            ],
            "application/vnd.google.colaboratory.intrinsic+json": {
              "type": "dataframe",
              "variable_name": "df",
              "summary": "{\n  \"name\": \"df\",\n  \"rows\": 100,\n  \"fields\": [\n    {\n      \"column\": \"user_id\",\n      \"properties\": {\n        \"dtype\": \"number\",\n        \"std\": 52,\n        \"min\": 546443,\n        \"max\": 546592,\n        \"num_unique_values\": 100,\n        \"samples\": [\n          546580,\n          546576,\n          546568\n        ],\n        \"semantic_type\": \"\",\n        \"description\": \"\"\n      }\n    },\n    {\n      \"column\": \"group\",\n      \"properties\": {\n        \"dtype\": \"category\",\n        \"num_unique_values\": 2,\n        \"samples\": [\n          \"treatment\",\n          \"control\"\n        ],\n        \"semantic_type\": \"\",\n        \"description\": \"\"\n      }\n    },\n    {\n      \"column\": \"landing_page\",\n      \"properties\": {\n        \"dtype\": \"category\",\n        \"num_unique_values\": 2,\n        \"samples\": [\n          \"new\",\n          \"old\"\n        ],\n        \"semantic_type\": \"\",\n        \"description\": \"\"\n      }\n    },\n    {\n      \"column\": \"time_spent_on_the_page\",\n      \"properties\": {\n        \"dtype\": \"number\",\n        \"std\": 2.378166078933492,\n        \"min\": 0.19,\n        \"max\": 10.71,\n        \"num_unique_values\": 94,\n        \"samples\": [\n          8.46,\n          3.65\n        ],\n        \"semantic_type\": \"\",\n        \"description\": \"\"\n      }\n    },\n    {\n      \"column\": \"converted\",\n      \"properties\": {\n        \"dtype\": \"category\",\n        \"num_unique_values\": 2,\n        \"samples\": [\n          \"yes\",\n          \"no\"\n        ],\n        \"semantic_type\": \"\",\n        \"description\": \"\"\n      }\n    },\n    {\n      \"column\": \"language_preferred\",\n      \"properties\": {\n        \"dtype\": \"category\",\n        \"num_unique_values\": 3,\n        \"samples\": [\n          \"Spanish\",\n          \"English\"\n        ],\n        \"semantic_type\": \"\",\n        \"description\": \"\"\n      }\n    }\n  ]\n}"
            }
          },
          "metadata": {},
          "execution_count": 5
        }
      ]
    },
    {
      "cell_type": "code",
      "source": [
        "df.shape"
      ],
      "metadata": {
        "colab": {
          "base_uri": "https://localhost:8080/"
        },
        "id": "LKniFXkRQBm1",
        "outputId": "78001599-46ec-46dc-fc3c-11c9eecc72ac"
      },
      "execution_count": 6,
      "outputs": [
        {
          "output_type": "execute_result",
          "data": {
            "text/plain": [
              "(100, 6)"
            ]
          },
          "metadata": {},
          "execution_count": 6
        }
      ]
    },
    {
      "cell_type": "code",
      "source": [
        "df.info()"
      ],
      "metadata": {
        "colab": {
          "base_uri": "https://localhost:8080/"
        },
        "id": "zJigsgfDQKjw",
        "outputId": "8232c9ac-cb9d-4528-a1e6-9dbd6f2faaf6"
      },
      "execution_count": 7,
      "outputs": [
        {
          "output_type": "stream",
          "name": "stdout",
          "text": [
            "<class 'pandas.core.frame.DataFrame'>\n",
            "RangeIndex: 100 entries, 0 to 99\n",
            "Data columns (total 6 columns):\n",
            " #   Column                  Non-Null Count  Dtype  \n",
            "---  ------                  --------------  -----  \n",
            " 0   user_id                 100 non-null    int64  \n",
            " 1   group                   100 non-null    object \n",
            " 2   landing_page            100 non-null    object \n",
            " 3   time_spent_on_the_page  100 non-null    float64\n",
            " 4   converted               100 non-null    object \n",
            " 5   language_preferred      100 non-null    object \n",
            "dtypes: float64(1), int64(1), object(4)\n",
            "memory usage: 4.8+ KB\n"
          ]
        }
      ]
    },
    {
      "cell_type": "code",
      "source": [
        "df.isna().sum()"
      ],
      "metadata": {
        "colab": {
          "base_uri": "https://localhost:8080/"
        },
        "id": "lCQAkV84QnNL",
        "outputId": "9781ba56-9be5-4c28-ff8b-a80689cf60eb"
      },
      "execution_count": 8,
      "outputs": [
        {
          "output_type": "execute_result",
          "data": {
            "text/plain": [
              "user_id                   0\n",
              "group                     0\n",
              "landing_page              0\n",
              "time_spent_on_the_page    0\n",
              "converted                 0\n",
              "language_preferred        0\n",
              "dtype: int64"
            ]
          },
          "metadata": {},
          "execution_count": 8
        }
      ]
    },
    {
      "cell_type": "markdown",
      "source": [
        "# Problem Definition**\n",
        "\n",
        "E-news Express aims to increase its number of subscribers by optimizing its landing page. The company suspects that the current webpage design and content are not engaging enough to retain visitors and convert them into subscribers. To address this, a new landing page has been designed with an improved layout and more relevant content. The goal is to determine if this new design is more effective at attracting and converting users compared to the existing page\n"
      ],
      "metadata": {
        "id": "rsAm9PsjNUlV"
      }
    },
    {
      "cell_type": "markdown",
      "source": [
        "**Questions to be Answered**\n",
        "\n",
        "Do users spend more time on the new landing page than on the existing landing page?\n",
        "\n",
        "Is the conversion rate for the new page greater than the conversion rate for the old page?\n",
        "\n",
        "Does the conversion status depend on the preferred language?\n",
        "\n",
        "Is the time spent on the new page the same for different language users?\n"
      ],
      "metadata": {
        "id": "yMFEs0eONy3t"
      }
    },
    {
      "cell_type": "markdown",
      "source": [
        "**Data Background and Contents**\n",
        "\n",
        "The dataset includes interaction data from an ab test where 100 users were randomly assigned to either the control group (existing landing page) or the treatment group (new landing page). The dataset contains the following columns:\n",
        "\n",
        "user_id: Unique identifier for each user.\n",
        "\n",
        "group: Indicates whether the user is in the control group or treatment group.\n",
        "\n",
        "landing_page - Whether the landing page is new or old\n",
        "\n",
        "time_spent: Time spent on the landing page (in seconds).\n",
        "\n",
        "converted: Indicates whether the user subscribed (1) or not (0).\n",
        "\n",
        "preferred_language: The preferred language of the user\n"
      ],
      "metadata": {
        "id": "Bb5yTmHiOnaN"
      }
    },
    {
      "cell_type": "markdown",
      "source": [
        "# Univariate analyses"
      ],
      "metadata": {
        "id": "4HxD5LSSUSvI"
      }
    },
    {
      "cell_type": "code",
      "source": [
        "df.describe(include='all').T"
      ],
      "metadata": {
        "colab": {
          "base_uri": "https://localhost:8080/",
          "height": 258
        },
        "id": "Gut189XBU6jP",
        "outputId": "b99c85d4-c109-43ec-acff-d862c9c2850a"
      },
      "execution_count": 9,
      "outputs": [
        {
          "output_type": "execute_result",
          "data": {
            "text/plain": [
              "                        count unique      top freq      mean        std  \\\n",
              "user_id                 100.0    NaN      NaN  NaN  546517.0  52.295779   \n",
              "group                     100      2  control   50       NaN        NaN   \n",
              "landing_page              100      2      old   50       NaN        NaN   \n",
              "time_spent_on_the_page  100.0    NaN      NaN  NaN    5.3778   2.378166   \n",
              "converted                 100      2      yes   54       NaN        NaN   \n",
              "language_preferred        100      3  Spanish   34       NaN        NaN   \n",
              "\n",
              "                             min        25%       50%        75%       max  \n",
              "user_id                 546443.0  546467.75  546492.5  546567.25  546592.0  \n",
              "group                        NaN        NaN       NaN        NaN       NaN  \n",
              "landing_page                 NaN        NaN       NaN        NaN       NaN  \n",
              "time_spent_on_the_page      0.19       3.88     5.415     7.0225     10.71  \n",
              "converted                    NaN        NaN       NaN        NaN       NaN  \n",
              "language_preferred           NaN        NaN       NaN        NaN       NaN  "
            ],
            "text/html": [
              "\n",
              "  <div id=\"df-c08b6ed5-8429-4245-839b-d1d75f4848be\" class=\"colab-df-container\">\n",
              "    <div>\n",
              "<style scoped>\n",
              "    .dataframe tbody tr th:only-of-type {\n",
              "        vertical-align: middle;\n",
              "    }\n",
              "\n",
              "    .dataframe tbody tr th {\n",
              "        vertical-align: top;\n",
              "    }\n",
              "\n",
              "    .dataframe thead th {\n",
              "        text-align: right;\n",
              "    }\n",
              "</style>\n",
              "<table border=\"1\" class=\"dataframe\">\n",
              "  <thead>\n",
              "    <tr style=\"text-align: right;\">\n",
              "      <th></th>\n",
              "      <th>count</th>\n",
              "      <th>unique</th>\n",
              "      <th>top</th>\n",
              "      <th>freq</th>\n",
              "      <th>mean</th>\n",
              "      <th>std</th>\n",
              "      <th>min</th>\n",
              "      <th>25%</th>\n",
              "      <th>50%</th>\n",
              "      <th>75%</th>\n",
              "      <th>max</th>\n",
              "    </tr>\n",
              "  </thead>\n",
              "  <tbody>\n",
              "    <tr>\n",
              "      <th>user_id</th>\n",
              "      <td>100.0</td>\n",
              "      <td>NaN</td>\n",
              "      <td>NaN</td>\n",
              "      <td>NaN</td>\n",
              "      <td>546517.0</td>\n",
              "      <td>52.295779</td>\n",
              "      <td>546443.0</td>\n",
              "      <td>546467.75</td>\n",
              "      <td>546492.5</td>\n",
              "      <td>546567.25</td>\n",
              "      <td>546592.0</td>\n",
              "    </tr>\n",
              "    <tr>\n",
              "      <th>group</th>\n",
              "      <td>100</td>\n",
              "      <td>2</td>\n",
              "      <td>control</td>\n",
              "      <td>50</td>\n",
              "      <td>NaN</td>\n",
              "      <td>NaN</td>\n",
              "      <td>NaN</td>\n",
              "      <td>NaN</td>\n",
              "      <td>NaN</td>\n",
              "      <td>NaN</td>\n",
              "      <td>NaN</td>\n",
              "    </tr>\n",
              "    <tr>\n",
              "      <th>landing_page</th>\n",
              "      <td>100</td>\n",
              "      <td>2</td>\n",
              "      <td>old</td>\n",
              "      <td>50</td>\n",
              "      <td>NaN</td>\n",
              "      <td>NaN</td>\n",
              "      <td>NaN</td>\n",
              "      <td>NaN</td>\n",
              "      <td>NaN</td>\n",
              "      <td>NaN</td>\n",
              "      <td>NaN</td>\n",
              "    </tr>\n",
              "    <tr>\n",
              "      <th>time_spent_on_the_page</th>\n",
              "      <td>100.0</td>\n",
              "      <td>NaN</td>\n",
              "      <td>NaN</td>\n",
              "      <td>NaN</td>\n",
              "      <td>5.3778</td>\n",
              "      <td>2.378166</td>\n",
              "      <td>0.19</td>\n",
              "      <td>3.88</td>\n",
              "      <td>5.415</td>\n",
              "      <td>7.0225</td>\n",
              "      <td>10.71</td>\n",
              "    </tr>\n",
              "    <tr>\n",
              "      <th>converted</th>\n",
              "      <td>100</td>\n",
              "      <td>2</td>\n",
              "      <td>yes</td>\n",
              "      <td>54</td>\n",
              "      <td>NaN</td>\n",
              "      <td>NaN</td>\n",
              "      <td>NaN</td>\n",
              "      <td>NaN</td>\n",
              "      <td>NaN</td>\n",
              "      <td>NaN</td>\n",
              "      <td>NaN</td>\n",
              "    </tr>\n",
              "    <tr>\n",
              "      <th>language_preferred</th>\n",
              "      <td>100</td>\n",
              "      <td>3</td>\n",
              "      <td>Spanish</td>\n",
              "      <td>34</td>\n",
              "      <td>NaN</td>\n",
              "      <td>NaN</td>\n",
              "      <td>NaN</td>\n",
              "      <td>NaN</td>\n",
              "      <td>NaN</td>\n",
              "      <td>NaN</td>\n",
              "      <td>NaN</td>\n",
              "    </tr>\n",
              "  </tbody>\n",
              "</table>\n",
              "</div>\n",
              "    <div class=\"colab-df-buttons\">\n",
              "\n",
              "  <div class=\"colab-df-container\">\n",
              "    <button class=\"colab-df-convert\" onclick=\"convertToInteractive('df-c08b6ed5-8429-4245-839b-d1d75f4848be')\"\n",
              "            title=\"Convert this dataframe to an interactive table.\"\n",
              "            style=\"display:none;\">\n",
              "\n",
              "  <svg xmlns=\"http://www.w3.org/2000/svg\" height=\"24px\" viewBox=\"0 -960 960 960\">\n",
              "    <path d=\"M120-120v-720h720v720H120Zm60-500h600v-160H180v160Zm220 220h160v-160H400v160Zm0 220h160v-160H400v160ZM180-400h160v-160H180v160Zm440 0h160v-160H620v160ZM180-180h160v-160H180v160Zm440 0h160v-160H620v160Z\"/>\n",
              "  </svg>\n",
              "    </button>\n",
              "\n",
              "  <style>\n",
              "    .colab-df-container {\n",
              "      display:flex;\n",
              "      gap: 12px;\n",
              "    }\n",
              "\n",
              "    .colab-df-convert {\n",
              "      background-color: #E8F0FE;\n",
              "      border: none;\n",
              "      border-radius: 50%;\n",
              "      cursor: pointer;\n",
              "      display: none;\n",
              "      fill: #1967D2;\n",
              "      height: 32px;\n",
              "      padding: 0 0 0 0;\n",
              "      width: 32px;\n",
              "    }\n",
              "\n",
              "    .colab-df-convert:hover {\n",
              "      background-color: #E2EBFA;\n",
              "      box-shadow: 0px 1px 2px rgba(60, 64, 67, 0.3), 0px 1px 3px 1px rgba(60, 64, 67, 0.15);\n",
              "      fill: #174EA6;\n",
              "    }\n",
              "\n",
              "    .colab-df-buttons div {\n",
              "      margin-bottom: 4px;\n",
              "    }\n",
              "\n",
              "    [theme=dark] .colab-df-convert {\n",
              "      background-color: #3B4455;\n",
              "      fill: #D2E3FC;\n",
              "    }\n",
              "\n",
              "    [theme=dark] .colab-df-convert:hover {\n",
              "      background-color: #434B5C;\n",
              "      box-shadow: 0px 1px 3px 1px rgba(0, 0, 0, 0.15);\n",
              "      filter: drop-shadow(0px 1px 2px rgba(0, 0, 0, 0.3));\n",
              "      fill: #FFFFFF;\n",
              "    }\n",
              "  </style>\n",
              "\n",
              "    <script>\n",
              "      const buttonEl =\n",
              "        document.querySelector('#df-c08b6ed5-8429-4245-839b-d1d75f4848be button.colab-df-convert');\n",
              "      buttonEl.style.display =\n",
              "        google.colab.kernel.accessAllowed ? 'block' : 'none';\n",
              "\n",
              "      async function convertToInteractive(key) {\n",
              "        const element = document.querySelector('#df-c08b6ed5-8429-4245-839b-d1d75f4848be');\n",
              "        const dataTable =\n",
              "          await google.colab.kernel.invokeFunction('convertToInteractive',\n",
              "                                                    [key], {});\n",
              "        if (!dataTable) return;\n",
              "\n",
              "        const docLinkHtml = 'Like what you see? Visit the ' +\n",
              "          '<a target=\"_blank\" href=https://colab.research.google.com/notebooks/data_table.ipynb>data table notebook</a>'\n",
              "          + ' to learn more about interactive tables.';\n",
              "        element.innerHTML = '';\n",
              "        dataTable['output_type'] = 'display_data';\n",
              "        await google.colab.output.renderOutput(dataTable, element);\n",
              "        const docLink = document.createElement('div');\n",
              "        docLink.innerHTML = docLinkHtml;\n",
              "        element.appendChild(docLink);\n",
              "      }\n",
              "    </script>\n",
              "  </div>\n",
              "\n",
              "\n",
              "<div id=\"df-bd7aa2aa-3293-4d55-953a-06851f83c451\">\n",
              "  <button class=\"colab-df-quickchart\" onclick=\"quickchart('df-bd7aa2aa-3293-4d55-953a-06851f83c451')\"\n",
              "            title=\"Suggest charts\"\n",
              "            style=\"display:none;\">\n",
              "\n",
              "<svg xmlns=\"http://www.w3.org/2000/svg\" height=\"24px\"viewBox=\"0 0 24 24\"\n",
              "     width=\"24px\">\n",
              "    <g>\n",
              "        <path d=\"M19 3H5c-1.1 0-2 .9-2 2v14c0 1.1.9 2 2 2h14c1.1 0 2-.9 2-2V5c0-1.1-.9-2-2-2zM9 17H7v-7h2v7zm4 0h-2V7h2v10zm4 0h-2v-4h2v4z\"/>\n",
              "    </g>\n",
              "</svg>\n",
              "  </button>\n",
              "\n",
              "<style>\n",
              "  .colab-df-quickchart {\n",
              "      --bg-color: #E8F0FE;\n",
              "      --fill-color: #1967D2;\n",
              "      --hover-bg-color: #E2EBFA;\n",
              "      --hover-fill-color: #174EA6;\n",
              "      --disabled-fill-color: #AAA;\n",
              "      --disabled-bg-color: #DDD;\n",
              "  }\n",
              "\n",
              "  [theme=dark] .colab-df-quickchart {\n",
              "      --bg-color: #3B4455;\n",
              "      --fill-color: #D2E3FC;\n",
              "      --hover-bg-color: #434B5C;\n",
              "      --hover-fill-color: #FFFFFF;\n",
              "      --disabled-bg-color: #3B4455;\n",
              "      --disabled-fill-color: #666;\n",
              "  }\n",
              "\n",
              "  .colab-df-quickchart {\n",
              "    background-color: var(--bg-color);\n",
              "    border: none;\n",
              "    border-radius: 50%;\n",
              "    cursor: pointer;\n",
              "    display: none;\n",
              "    fill: var(--fill-color);\n",
              "    height: 32px;\n",
              "    padding: 0;\n",
              "    width: 32px;\n",
              "  }\n",
              "\n",
              "  .colab-df-quickchart:hover {\n",
              "    background-color: var(--hover-bg-color);\n",
              "    box-shadow: 0 1px 2px rgba(60, 64, 67, 0.3), 0 1px 3px 1px rgba(60, 64, 67, 0.15);\n",
              "    fill: var(--button-hover-fill-color);\n",
              "  }\n",
              "\n",
              "  .colab-df-quickchart-complete:disabled,\n",
              "  .colab-df-quickchart-complete:disabled:hover {\n",
              "    background-color: var(--disabled-bg-color);\n",
              "    fill: var(--disabled-fill-color);\n",
              "    box-shadow: none;\n",
              "  }\n",
              "\n",
              "  .colab-df-spinner {\n",
              "    border: 2px solid var(--fill-color);\n",
              "    border-color: transparent;\n",
              "    border-bottom-color: var(--fill-color);\n",
              "    animation:\n",
              "      spin 1s steps(1) infinite;\n",
              "  }\n",
              "\n",
              "  @keyframes spin {\n",
              "    0% {\n",
              "      border-color: transparent;\n",
              "      border-bottom-color: var(--fill-color);\n",
              "      border-left-color: var(--fill-color);\n",
              "    }\n",
              "    20% {\n",
              "      border-color: transparent;\n",
              "      border-left-color: var(--fill-color);\n",
              "      border-top-color: var(--fill-color);\n",
              "    }\n",
              "    30% {\n",
              "      border-color: transparent;\n",
              "      border-left-color: var(--fill-color);\n",
              "      border-top-color: var(--fill-color);\n",
              "      border-right-color: var(--fill-color);\n",
              "    }\n",
              "    40% {\n",
              "      border-color: transparent;\n",
              "      border-right-color: var(--fill-color);\n",
              "      border-top-color: var(--fill-color);\n",
              "    }\n",
              "    60% {\n",
              "      border-color: transparent;\n",
              "      border-right-color: var(--fill-color);\n",
              "    }\n",
              "    80% {\n",
              "      border-color: transparent;\n",
              "      border-right-color: var(--fill-color);\n",
              "      border-bottom-color: var(--fill-color);\n",
              "    }\n",
              "    90% {\n",
              "      border-color: transparent;\n",
              "      border-bottom-color: var(--fill-color);\n",
              "    }\n",
              "  }\n",
              "</style>\n",
              "\n",
              "  <script>\n",
              "    async function quickchart(key) {\n",
              "      const quickchartButtonEl =\n",
              "        document.querySelector('#' + key + ' button');\n",
              "      quickchartButtonEl.disabled = true;  // To prevent multiple clicks.\n",
              "      quickchartButtonEl.classList.add('colab-df-spinner');\n",
              "      try {\n",
              "        const charts = await google.colab.kernel.invokeFunction(\n",
              "            'suggestCharts', [key], {});\n",
              "      } catch (error) {\n",
              "        console.error('Error during call to suggestCharts:', error);\n",
              "      }\n",
              "      quickchartButtonEl.classList.remove('colab-df-spinner');\n",
              "      quickchartButtonEl.classList.add('colab-df-quickchart-complete');\n",
              "    }\n",
              "    (() => {\n",
              "      let quickchartButtonEl =\n",
              "        document.querySelector('#df-bd7aa2aa-3293-4d55-953a-06851f83c451 button');\n",
              "      quickchartButtonEl.style.display =\n",
              "        google.colab.kernel.accessAllowed ? 'block' : 'none';\n",
              "    })();\n",
              "  </script>\n",
              "</div>\n",
              "\n",
              "    </div>\n",
              "  </div>\n"
            ],
            "application/vnd.google.colaboratory.intrinsic+json": {
              "type": "dataframe",
              "summary": "{\n  \"name\": \"df\",\n  \"rows\": 6,\n  \"fields\": [\n    {\n      \"column\": \"count\",\n      \"properties\": {\n        \"dtype\": \"date\",\n        \"min\": 100.0,\n        \"max\": 100.0,\n        \"num_unique_values\": 1,\n        \"samples\": [\n          100.0\n        ],\n        \"semantic_type\": \"\",\n        \"description\": \"\"\n      }\n    },\n    {\n      \"column\": \"unique\",\n      \"properties\": {\n        \"dtype\": \"date\",\n        \"min\": 2,\n        \"max\": 3,\n        \"num_unique_values\": 2,\n        \"samples\": [\n          3\n        ],\n        \"semantic_type\": \"\",\n        \"description\": \"\"\n      }\n    },\n    {\n      \"column\": \"top\",\n      \"properties\": {\n        \"dtype\": \"string\",\n        \"num_unique_values\": 4,\n        \"samples\": [\n          \"old\"\n        ],\n        \"semantic_type\": \"\",\n        \"description\": \"\"\n      }\n    },\n    {\n      \"column\": \"freq\",\n      \"properties\": {\n        \"dtype\": \"date\",\n        \"min\": \"34\",\n        \"max\": \"54\",\n        \"num_unique_values\": 3,\n        \"samples\": [\n          \"50\"\n        ],\n        \"semantic_type\": \"\",\n        \"description\": \"\"\n      }\n    },\n    {\n      \"column\": \"mean\",\n      \"properties\": {\n        \"dtype\": \"date\",\n        \"min\": 5.377800000000001,\n        \"max\": 546517.0,\n        \"num_unique_values\": 2,\n        \"samples\": [\n          5.377800000000001\n        ],\n        \"semantic_type\": \"\",\n        \"description\": \"\"\n      }\n    },\n    {\n      \"column\": \"std\",\n      \"properties\": {\n        \"dtype\": \"date\",\n        \"min\": 2.378166078933492,\n        \"max\": 52.29577884350213,\n        \"num_unique_values\": 2,\n        \"samples\": [\n          2.378166078933492\n        ],\n        \"semantic_type\": \"\",\n        \"description\": \"\"\n      }\n    },\n    {\n      \"column\": \"min\",\n      \"properties\": {\n        \"dtype\": \"date\",\n        \"min\": 0.19,\n        \"max\": 546443.0,\n        \"num_unique_values\": 2,\n        \"samples\": [\n          0.19\n        ],\n        \"semantic_type\": \"\",\n        \"description\": \"\"\n      }\n    },\n    {\n      \"column\": \"25%\",\n      \"properties\": {\n        \"dtype\": \"date\",\n        \"min\": 3.88,\n        \"max\": 546467.75,\n        \"num_unique_values\": 2,\n        \"samples\": [\n          3.88\n        ],\n        \"semantic_type\": \"\",\n        \"description\": \"\"\n      }\n    },\n    {\n      \"column\": \"50%\",\n      \"properties\": {\n        \"dtype\": \"date\",\n        \"min\": 5.415,\n        \"max\": 546492.5,\n        \"num_unique_values\": 2,\n        \"samples\": [\n          5.415\n        ],\n        \"semantic_type\": \"\",\n        \"description\": \"\"\n      }\n    },\n    {\n      \"column\": \"75%\",\n      \"properties\": {\n        \"dtype\": \"date\",\n        \"min\": 7.0225,\n        \"max\": 546567.25,\n        \"num_unique_values\": 2,\n        \"samples\": [\n          7.0225\n        ],\n        \"semantic_type\": \"\",\n        \"description\": \"\"\n      }\n    },\n    {\n      \"column\": \"max\",\n      \"properties\": {\n        \"dtype\": \"date\",\n        \"min\": 10.71,\n        \"max\": 546592.0,\n        \"num_unique_values\": 2,\n        \"samples\": [\n          10.71\n        ],\n        \"semantic_type\": \"\",\n        \"description\": \"\"\n      }\n    }\n  ]\n}"
            }
          },
          "metadata": {},
          "execution_count": 9
        }
      ]
    },
    {
      "cell_type": "markdown",
      "source": [
        "User ID\n",
        "\n",
        "Unique for each user. No analysis needed."
      ],
      "metadata": {
        "id": "BqVGpa0iUY-L"
      }
    },
    {
      "cell_type": "markdown",
      "source": [
        "Group\n",
        "\n",
        "Count: 100\n",
        "\n",
        "Unique: 2\n",
        "\n",
        "Top: control\n",
        "\n",
        "Frequency of Top: 50"
      ],
      "metadata": {
        "id": "3bSwGeVlUq8Q"
      }
    },
    {
      "cell_type": "code",
      "source": [
        "sns.countplot(x='group', data=df)\n",
        "plt.title('Distribution of Users by Group')\n",
        "plt.xlabel('Group')\n",
        "plt.ylabel('Count')\n",
        "plt.show()"
      ],
      "metadata": {
        "colab": {
          "base_uri": "https://localhost:8080/",
          "height": 472
        },
        "id": "8lqR1hh5N7wz",
        "outputId": "99b59912-e68f-4140-d5e7-5b49619419f5"
      },
      "execution_count": 10,
      "outputs": [
        {
          "output_type": "display_data",
          "data": {
            "text/plain": [
              "<Figure size 640x480 with 1 Axes>"
            ],
            "image/png": "[encoded data removed]"
          },
          "metadata": {}
        }
      ]
    },
    {
      "cell_type": "markdown",
      "source": [
        "Users are same for both groups"
      ],
      "metadata": {
        "id": "Nig9BtygW4V1"
      }
    },
    {
      "cell_type": "markdown",
      "source": [
        "Landing page\n",
        "\n",
        "Count: 100\n",
        "\n",
        "Unique: 2\n",
        "\n",
        "Top: old\n",
        "\n",
        "Frequency of Top: 50"
      ],
      "metadata": {
        "id": "4qo4ePSZXToO"
      }
    },
    {
      "cell_type": "code",
      "source": [
        "sns.countplot(x='landing_page', data=df)\n",
        "plt.title('Distribution of Users by Landing Page')\n",
        "plt.xlabel('Landing Page')\n",
        "plt.ylabel('Count')\n",
        "plt.show()"
      ],
      "metadata": {
        "colab": {
          "base_uri": "https://localhost:8080/",
          "height": 472
        },
        "id": "Nq_rxeSxXdHb",
        "outputId": "06eb461b-0ebf-4234-d15d-b5369075e881"
      },
      "execution_count": 11,
      "outputs": [
        {
          "output_type": "display_data",
          "data": {
            "text/plain": [
              "<Figure size 640x480 with 1 Axes>"
            ],
            "image/png": "[encoded data removed]"
          },
          "metadata": {}
        }
      ]
    },
    {
      "cell_type": "markdown",
      "source": [
        "users are same for both landing pages"
      ],
      "metadata": {
        "id": "dQe6NNq7Xsz2"
      }
    },
    {
      "cell_type": "markdown",
      "source": [
        "Time Spent on the Page\n",
        "\n",
        "Count: 100\n",
        "\n",
        "Mean: 5.3778\n",
        "\n",
        "Standard Deviation: 2.378\n",
        "\n",
        "Min: 0.19\n",
        "\n",
        "25th Percentile: 3.88\n",
        "\n",
        "Median: 5.415\n",
        "\n",
        "75th Percentile: 7.0225\n",
        "\n",
        "Max: 10.71"
      ],
      "metadata": {
        "id": "5GkbQf6FX1Xl"
      }
    },
    {
      "cell_type": "code",
      "source": [
        "plt.hist(df['time_spent_on_the_page'], bins=10, edgecolor='black')\n",
        "plt.title('Distribution of Time Spent on the Page')\n",
        "plt.xlabel('Time Spent (seconds)')\n",
        "plt.ylabel('Frequency')\n",
        "plt.show()"
      ],
      "metadata": {
        "colab": {
          "base_uri": "https://localhost:8080/",
          "height": 472
        },
        "id": "MGOdDUKeXwGM",
        "outputId": "9e4ceee6-7161-4fad-a471-698399e21da5"
      },
      "execution_count": 12,
      "outputs": [
        {
          "output_type": "display_data",
          "data": {
            "text/plain": [
              "<Figure size 640x480 with 1 Axes>"
            ],
            "image/png": "[encoded data removed]"
          },
          "metadata": {}
        }
      ]
    },
    {
      "cell_type": "markdown",
      "source": [
        "Normal distrubution is seen, max users are spending 12 sec to 17.5 sec"
      ],
      "metadata": {
        "id": "4nqkFA-9YU6N"
      }
    },
    {
      "cell_type": "markdown",
      "source": [
        "Converted\n",
        "\n",
        "Count: 100\n",
        "Unique: 2\n",
        "Top: yes\n",
        "Frequency of Top: 54"
      ],
      "metadata": {
        "id": "SqXR7HwEYrT5"
      }
    },
    {
      "cell_type": "code",
      "source": [
        "sns.countplot(x='converted', data=df)\n",
        "plt.title('Distribution of Users by Conversion Status')\n",
        "plt.xlabel('Converted')\n",
        "plt.ylabel('Count')\n",
        "plt.show()"
      ],
      "metadata": {
        "colab": {
          "base_uri": "https://localhost:8080/",
          "height": 472
        },
        "id": "0u66dm3Ci4P2",
        "outputId": "181ce754-c576-4b5f-ebc0-89f8f12da217"
      },
      "execution_count": 13,
      "outputs": [
        {
          "output_type": "display_data",
          "data": {
            "text/plain": [
              "<Figure size 640x480 with 1 Axes>"
            ],
            "image/png": "[encoded data removed]"
          },
          "metadata": {}
        }
      ]
    },
    {
      "cell_type": "markdown",
      "source": [
        "out of 100 users 60 are converted- subscribed"
      ],
      "metadata": {
        "id": "B3Ql2zQBi_dW"
      }
    },
    {
      "cell_type": "markdown",
      "source": [
        "Language prefered\n",
        "\n",
        "Count: 100\n",
        "Unique: 3\n",
        "Top: Spanish\n",
        "Frequency of Top: 34"
      ],
      "metadata": {
        "id": "uCEPWfWbjF9P"
      }
    },
    {
      "cell_type": "code",
      "source": [
        "sns.countplot(x='language_preferred', data=df)\n",
        "plt.title('Distribution of Users by Preferred Language')\n",
        "plt.xlabel('Preferred Language')\n",
        "plt.ylabel('Count')\n",
        "plt.show()"
      ],
      "metadata": {
        "colab": {
          "base_uri": "https://localhost:8080/",
          "height": 472
        },
        "id": "OwmHGLPojOR1",
        "outputId": "82b59c81-23fc-4616-bd2a-54fa3f02b1bb"
      },
      "execution_count": 14,
      "outputs": [
        {
          "output_type": "display_data",
          "data": {
            "text/plain": [
              "<Figure size 640x480 with 1 Axes>"
            ],
            "image/png": "[encoded data removed]"
          },
          "metadata": {}
        }
      ]
    },
    {
      "cell_type": "markdown",
      "source": [
        "Almost equal distribution - its a catagorical variable"
      ],
      "metadata": {
        "id": "peNk5HR9jTWB"
      }
    },
    {
      "cell_type": "markdown",
      "source": [
        "# Bivariate analyses"
      ],
      "metadata": {
        "id": "FjC_v0mejqRk"
      }
    },
    {
      "cell_type": "markdown",
      "source": [
        "### Time Spent vs. Group"
      ],
      "metadata": {
        "id": "EtKt8Q9wk3yD"
      }
    },
    {
      "cell_type": "code",
      "source": [
        "sns.boxplot(x='group', y='time_spent_on_the_page', data=df)\n",
        "plt.title('Time Spent on the Page by Group')\n",
        "plt.xlabel('Group')\n",
        "plt.ylabel('Time Spent (seconds)')\n",
        "plt.show()"
      ],
      "metadata": {
        "colab": {
          "base_uri": "https://localhost:8080/",
          "height": 472
        },
        "id": "IGlfY2Jhk_i2",
        "outputId": "0fdc253f-1108-45cc-c47d-594a2c43374d"
      },
      "execution_count": 15,
      "outputs": [
        {
          "output_type": "display_data",
          "data": {
            "text/plain": [
              "<Figure size 640x480 with 1 Axes>"
            ],
            "image/png": "[encoded data removed]"
          },
          "metadata": {}
        }
      ]
    },
    {
      "cell_type": "markdown",
      "source": [
        "Time spent on landing page by two groups\n",
        "Treatment group has spent more time on new landing page and there are outlayers, mean is significantly  not so different\n",
        "\n"
      ],
      "metadata": {
        "id": "rijh3qzQlbv7"
      }
    },
    {
      "cell_type": "markdown",
      "source": [
        "### Conversion Rate vs. Group"
      ],
      "metadata": {
        "id": "GHqGIJI3j16t"
      }
    },
    {
      "cell_type": "code",
      "source": [
        "# Calculate conversion rates\n",
        "conversion_rates = df.groupby('group')['converted'].value_counts(normalize=True).unstack() * 100\n",
        "\n",
        "# Bar plot for conversion rates\n",
        "conversion_rates.plot(kind='bar', stacked=True)\n",
        "plt.title('Conversion Rate by Group')\n",
        "plt.xlabel('Group')\n",
        "plt.ylabel('Percentage')\n",
        "plt.legend(title='Converted')\n",
        "plt.show()"
      ],
      "metadata": {
        "colab": {
          "base_uri": "https://localhost:8080/",
          "height": 528
        },
        "id": "6lKs5LrTm1ek",
        "outputId": "579f1a9c-5c30-4c9f-88d9-5dece428d07d"
      },
      "execution_count": 16,
      "outputs": [
        {
          "output_type": "display_data",
          "data": {
            "text/plain": [
              "<Figure size 640x480 with 1 Axes>"
            ],
            "image/png": "[encoded data removed]"
          },
          "metadata": {}
        }
      ]
    },
    {
      "cell_type": "markdown",
      "source": [
        "Compare the conversion rates between the control and treatment groups.\n",
        "\n",
        "Approximately 42% of users in the control group converted.\n",
        "Approximately 65% of users in the treatment group converted."
      ],
      "metadata": {
        "id": "LKv_QwCcnQ3D"
      }
    },
    {
      "cell_type": "markdown",
      "source": [
        "### Converted vs. Preferred Language"
      ],
      "metadata": {
        "id": "KnLwcAjTx7XP"
      }
    },
    {
      "cell_type": "code",
      "source": [
        "# Calculate conversion rates by preferred language\n",
        "conversion_by_language = df.groupby('language_preferred')['converted'].value_counts(normalize=True).unstack() * 100\n",
        "\n",
        "# Stacked bar plot for conversion rates by preferred language\n",
        "conversion_by_language.plot(kind='bar', stacked=True)\n",
        "plt.title('Conversion Rate by Preferred Language')\n",
        "plt.xlabel('Preferred Language')\n",
        "plt.ylabel('Percentage')\n",
        "plt.legend(title='Converted')\n",
        "plt.show()"
      ],
      "metadata": {
        "colab": {
          "base_uri": "https://localhost:8080/",
          "height": 512
        },
        "id": "xSdUUuzgyFCU",
        "outputId": "70f73bbb-aaab-49ed-f91a-58dcd4c0995d"
      },
      "execution_count": 19,
      "outputs": [
        {
          "output_type": "display_data",
          "data": {
            "text/plain": [
              "<Figure size 640x480 with 1 Axes>"
            ],
            "image/png": "[encoded data removed]"
          },
          "metadata": {}
        }
      ]
    },
    {
      "cell_type": "markdown",
      "source": [
        "out of the converted users maximum prefer english lang"
      ],
      "metadata": {
        "id": "k7TmwRhvyeOK"
      }
    },
    {
      "cell_type": "markdown",
      "source": [
        "### Time Spent vs. Preferred Language (Treatment Group)"
      ],
      "metadata": {
        "id": "HB4WT5TAzUss"
      }
    },
    {
      "cell_type": "code",
      "source": [
        "# Filter data for treatment group\n",
        "treatment_group = df[df['group'] == 'treatment']\n",
        "\n",
        "# Box plot for 'time_spent_on_the_page' vs. 'language_preferred' in treatment group\n",
        "sns.boxplot(x='language_preferred', y='time_spent_on_the_page', data=treatment_group)\n",
        "plt.title('Time Spent on the New Page by Preferred Language')\n",
        "plt.xlabel('Preferred Language')\n",
        "plt.ylabel('Time Spent (seconds)')\n",
        "plt.show()"
      ],
      "metadata": {
        "colab": {
          "base_uri": "https://localhost:8080/",
          "height": 472
        },
        "id": "4jsHxWtbzqy9",
        "outputId": "f666053d-f5a7-4255-f7a7-1fbc72db91d5"
      },
      "execution_count": 20,
      "outputs": [
        {
          "output_type": "display_data",
          "data": {
            "text/plain": [
              "<Figure size 640x480 with 1 Axes>"
            ],
            "image/png": "[encoded data removed]"
          },
          "metadata": {}
        }
      ]
    },
    {
      "cell_type": "markdown",
      "source": [
        "Even in the treatment group English is most prefered lang\n",
        "In French we can see some outlayers on higher side and for spanish on lower side"
      ],
      "metadata": {
        "id": "LdOYldmKz9nX"
      }
    },
    {
      "cell_type": "markdown",
      "source": [
        "# Key observations"
      ],
      "metadata": {
        "id": "SL5NI56v0kyC"
      }
    },
    {
      "cell_type": "markdown",
      "source": [
        "The dataset is evenly split between the control and treatment groups, allowing for a fair comparison.\n",
        "\n",
        "The treatment group has a higher conversion rate, suggesting that the new landing page design is more effective.\n",
        "\n",
        "There is a noticeable variation in conversion rates and time spent based on the preferred language of the users, indicating that language could play a significant role in user behavior and engagement.\n",
        "\n",
        "Despite the higher conversion rate for the treatment group, the time spent on the landing pages does not show a significant difference between the control and treatment groups. - 1 or 2 sec diff\n"
      ],
      "metadata": {
        "id": "s8bH53V40pKn"
      }
    },
    {
      "cell_type": "markdown",
      "source": [
        "# Do the Users Spend More Time on the New Landing Page than the Old Landing Page?"
      ],
      "metadata": {
        "id": "Cba5V7h713vS"
      }
    },
    {
      "cell_type": "markdown",
      "source": [
        "### Box plot may help us to understand this- i have already touched this point in the bivariate analyes above. Lets go a step deeper here"
      ],
      "metadata": {
        "id": "zyhnPoYj1-Jt"
      }
    },
    {
      "cell_type": "code",
      "source": [
        "# Box plot for 'time_spent_on_the_page' vs. 'group'\n",
        "sns.boxplot(x='group', y='time_spent_on_the_page', data=df)\n",
        "plt.title('Time Spent on the Page by Group')\n",
        "plt.xlabel('Group')\n",
        "plt.ylabel('Time Spent (seconds)')\n",
        "plt.show()"
      ],
      "metadata": {
        "colab": {
          "base_uri": "https://localhost:8080/",
          "height": 472
        },
        "id": "IQbFpNYP0n9Y",
        "outputId": "955c8778-46f3-4d7e-bdf5-72d771f23d95"
      },
      "execution_count": 21,
      "outputs": [
        {
          "output_type": "display_data",
          "data": {
            "text/plain": [
              "<Figure size 640x480 with 1 Axes>"
            ],
            "image/png": "[encoded data removed]"
          },
          "metadata": {}
        }
      ]
    },
    {
      "cell_type": "markdown",
      "source": [
        "Formulate Null and Alternative Hypotheses\n",
        "Null Hypothesis (H0): The mean time spent on the new landing page (treatment group) is equal to the mean time spent on the old landing page (control group).\n",
        "\n",
        "𝐻\n",
        "0\n",
        ":\n",
        "𝜇\n",
        "new\n",
        "=\n",
        "𝜇\n",
        "old\n",
        "\n",
        "\n",
        "\n",
        "Alternative Hypothesis (H1): The mean time spent on the new landing page (treatment group) is greater than the mean time spent on the old landing page (control group).\n",
        "\n",
        "H\n",
        "1\n",
        " :μ\n",
        "new >\n",
        "​μ\n",
        "old\n"
      ],
      "metadata": {
        "id": "C8PtLNhL2mMR"
      }
    },
    {
      "cell_type": "markdown",
      "source": [
        "Select the Appropriate Test\n",
        "\n",
        "We will use an independent two-sample t-test for this analysis because we are comparing the means of two independent groups (control and treatment) to see if there is a statistically significant difference."
      ],
      "metadata": {
        "id": "429OEFGC4-mh"
      }
    },
    {
      "cell_type": "markdown",
      "source": [
        "Calculate the p-value"
      ],
      "metadata": {
        "id": "WSK5MN7k5pOp"
      }
    },
    {
      "cell_type": "code",
      "source": [
        "from scipy import stats\n",
        "# Define the control and treatment groups\n",
        "control_time_spent = df[df['group'] == 'control']['time_spent_on_the_page']\n",
        "treatment_time_spent = df[df['group'] == 'treatment']['time_spent_on_the_page']\n",
        "\n",
        "# Perform the t-test\n",
        "t_stat, p_value = stats.ttest_ind(treatment_time_spent, control_time_spent, alternative='greater')\n",
        "\n",
        "t_stat, p_value"
      ],
      "metadata": {
        "colab": {
          "base_uri": "https://localhost:8080/"
        },
        "id": "QQhENKqB33wL",
        "outputId": "cb03fe44-622d-4ed0-a29e-448fedeeecd4"
      },
      "execution_count": 24,
      "outputs": [
        {
          "output_type": "execute_result",
          "data": {
            "text/plain": [
              "(3.7867702694199856, 0.0001316123528095005)"
            ]
          },
          "metadata": {},
          "execution_count": 24
        }
      ]
    },
    {
      "cell_type": "markdown",
      "source": [
        "If the p-value is less than the significance level (0.05), we reject the null hypothesis in favor of the alternative hypothesis."
      ],
      "metadata": {
        "id": "UWXIhEDx6dD3"
      }
    },
    {
      "cell_type": "markdown",
      "source": [
        "Since the p-value (0.00013) is much smaller than the significance level (0.05), we reject the null hypothesis."
      ],
      "metadata": {
        "id": "_3MN5JrO7o8E"
      }
    },
    {
      "cell_type": "markdown",
      "source": [
        " There is evidence to suggest that users spend more time on the new landing page compared to the old landing page.\n",
        "\n",
        "**Interpretation:**\n",
        "\n",
        "The statistical analysis indicates a significant difference in the time spent on the landing pages, with users spending more time on the new landing page. This suggests that the new landing page is more engaging for users."
      ],
      "metadata": {
        "id": "JvyHJpln-AKs"
      }
    },
    {
      "cell_type": "markdown",
      "source": [
        "# Is the conversion rate (the proportion of users who visit the landing page and get converted) for the new page greater than the conversion rate for the old page?"
      ],
      "metadata": {
        "id": "AInv6KrQ-0OB"
      }
    },
    {
      "cell_type": "markdown",
      "source": [
        "In bivariate analyses we have touched this point already."
      ],
      "metadata": {
        "id": "uD74Eq9gAPAa"
      }
    },
    {
      "cell_type": "code",
      "source": [
        "# Calculate conversion rates\n",
        "conversion_rates = df.groupby('group')['converted'].value_counts(normalize=True).unstack() * 100\n",
        "\n",
        "# Bar plot for conversion rates\n",
        "conversion_rates.plot(kind='bar', stacked=True)\n",
        "plt.title('Conversion Rate by Group')\n",
        "plt.xlabel('Group')\n",
        "plt.ylabel('Percentage')\n",
        "plt.legend(title='Converted')\n",
        "plt.show()"
      ],
      "metadata": {
        "colab": {
          "base_uri": "https://localhost:8080/",
          "height": 528
        },
        "id": "94C810zR-2lV",
        "outputId": "b0be1ab3-eeb3-46be-abd9-d4c01e211081"
      },
      "execution_count": 25,
      "outputs": [
        {
          "output_type": "display_data",
          "data": {
            "text/plain": [
              "<Figure size 640x480 with 1 Axes>"
            ],
            "image/png": "[encoded data removed]"
          },
          "metadata": {}
        }
      ]
    },
    {
      "cell_type": "markdown",
      "source": [
        "Formulate Null and Alternative Hypotheses\n",
        "\n",
        "\n",
        "Null Hypothesis (H0): The conversion rate for the new landing page (treatment group) is less than or equal to the conversion rate for the old landing page (control group)\n",
        "\n",
        "H0:pnew  ≤ pold\n",
        "\n",
        "Alternative Hypothesis (H1): The conversion rate for the new landing page (treatment group) is greater than the conversion rate for the old landing page (control group).\n",
        "H0:pnew  > pold"
      ],
      "metadata": {
        "id": "_PakVrUDAZ6n"
      }
    },
    {
      "cell_type": "markdown",
      "source": [
        "We will use a one-tailed z-test for proportions for this analysis because we are comparing the proportions of two independent groups (control and treatment) to see if there is a statistically significant difference."
      ],
      "metadata": {
        "id": "sgkd-T_kp10T"
      }
    },
    {
      "cell_type": "markdown",
      "source": [
        "P value calculation"
      ],
      "metadata": {
        "id": "HcQIlM_EqAAN"
      }
    },
    {
      "cell_type": "code",
      "source": [
        "# Count converted and total users in each group\n",
        "# Count conversions and total users in each group\n",
        "controlgrp_converted = df[(df['group'] == 'control') & (df['converted'] == 'yes')].shape[0]\n",
        "controlgrp_total = df[df['group'] == 'control'].shape[0]\n",
        "treatmentgrp_converted = df[(df['group'] == 'treatment') & (df['converted'] == 'yes')].shape[0]\n",
        "treatmentgrp_total = df[df['group'] == 'treatment'].shape[0]\n",
        "\n",
        "# Conversion rates\n",
        "control_rate = controlgrp_converted / controlgrp_total\n",
        "treatment_rate = treatmentgrp_converted / treatmentgrp_total\n",
        "print('controlgrp_converted', controlgrp_converted)\n",
        "print('controlgroup total', controlgrp_total)\n",
        "print('Treatment group converted', treatmentgrp_converted)\n",
        "print('Treatment group total', treatmentgrp_total)\n",
        "print('control group converstion rate', control_rate)\n",
        "print('treatment group converstion rate', treatment_rate)\n",
        "\n"
      ],
      "metadata": {
        "colab": {
          "base_uri": "https://localhost:8080/"
        },
        "id": "_DHuVuhOqCF4",
        "outputId": "498cad67-65bd-4cb9-97e3-ed9a49e6aae1"
      },
      "execution_count": 21,
      "outputs": [
        {
          "output_type": "stream",
          "name": "stdout",
          "text": [
            "controlgrp_converted 21\n",
            "controlgroup total 50\n",
            "Treatment group converted 33\n",
            "Treatment group total 50\n",
            "control group converstion rate 0.42\n",
            "treatment group converstion rate 0.66\n"
          ]
        }
      ]
    },
    {
      "cell_type": "markdown",
      "source": [
        "Z test"
      ],
      "metadata": {
        "id": "ekzPONPHt44C"
      }
    },
    {
      "cell_type": "code",
      "source": [
        "from statsmodels.stats.proportion import proportions_ztest\n",
        "\n",
        "# Counts of conversions in control and treatment groups\n",
        "count = np.array([treatment_converted, control_converted])\n",
        "# Total users in control and treatment groups\n",
        "nobs = np.array([treatment_total, control_total])\n",
        "\n",
        "# Perform the z-test\n",
        "z_stat, p_value = proportions_ztest(count, nobs, alternative='larger')\n",
        "\n",
        "z_stat, p_value"
      ],
      "metadata": {
        "colab": {
          "base_uri": "https://localhost:8080/"
        },
        "id": "tTuHwcSGtpMP",
        "outputId": "e8c67f4b-981b-45d8-ada5-ba2cd9f3ff2a"
      },
      "execution_count": 22,
      "outputs": [
        {
          "output_type": "execute_result",
          "data": {
            "text/plain": [
              "(2.4077170617153842, 0.008026308204056278)"
            ]
          },
          "metadata": {},
          "execution_count": 22
        }
      ]
    },
    {
      "cell_type": "markdown",
      "source": [
        "Since the p-value is less than the significance level (0.05), we reject the null hypothesis.\n",
        "\n"
      ],
      "metadata": {
        "id": "9aSpmTcluC63"
      }
    },
    {
      "cell_type": "markdown",
      "source": [
        "This suggests that the new landing page is more effective in converting visitors into subscribers."
      ],
      "metadata": {
        "id": "OOC75H9rvYWl"
      }
    },
    {
      "cell_type": "markdown",
      "source": [
        "The z-test resulted in a p-value indicating strong evidence that the conversion rate for the new landing page is greater than the conversion rate for the old landing page."
      ],
      "metadata": {
        "id": "unB-JC0lvi7z"
      }
    },
    {
      "cell_type": "markdown",
      "source": [
        "#Does the converted status depend on the preferred language?\n"
      ],
      "metadata": {
        "id": "OsYcu9ZSvvn3"
      }
    },
    {
      "cell_type": "markdown",
      "source": [
        "convresion based on prefered language - this we have already seen in bivariate analyses"
      ],
      "metadata": {
        "id": "mYrrEQZxv43u"
      }
    },
    {
      "cell_type": "code",
      "source": [
        "# Calculate conversion rates by language\n",
        "conversion_by_language = df.groupby('language_preferred')['converted'].value_counts(normalize=True).unstack() * 100\n",
        "\n",
        "# Bar plot for conversion rates by language\n",
        "conversion_by_language.plot(kind='bar', stacked=True)\n",
        "plt.title('Conversion Rate by Preferred Language')\n",
        "plt.xlabel('Preferred Language')\n",
        "plt.ylabel('Percentage')\n",
        "plt.legend(title='Converted')\n",
        "plt.show()\n"
      ],
      "metadata": {
        "colab": {
          "base_uri": "https://localhost:8080/",
          "height": 512
        },
        "id": "9FoNE77_wuTE",
        "outputId": "04ff96fe-86b5-4cbc-f838-6182ba63dc93"
      },
      "execution_count": 24,
      "outputs": [
        {
          "output_type": "display_data",
          "data": {
            "text/plain": [
              "<Figure size 640x480 with 1 Axes>"
            ],
            "image/png": "[encoded data removed]"
          },
          "metadata": {}
        }
      ]
    },
    {
      "cell_type": "markdown",
      "source": [
        "Formulate Null and Alternative Hypotheses\n",
        "\n",
        "Null Hypothesis (H0): The conversion rate is independent of the preferred language.\n",
        "\n",
        "H0\n",
        " : The preferred language does not affect the conversion rate.\n",
        "\n",
        "Alternative Hypothesis (H1): The conversion rate depends on the preferred language.\n",
        "\n",
        "H1\n",
        " : The preferred language affects the conversion rate."
      ],
      "metadata": {
        "id": "Xib9WV6PxPvh"
      }
    },
    {
      "cell_type": "markdown",
      "source": [
        "We will use the chi-square test for independence to determine if there is a significant association between the preferred language and the conversion status."
      ],
      "metadata": {
        "id": "bf7SrNZFxq-r"
      }
    },
    {
      "cell_type": "markdown",
      "source": [
        "We have to create a contegncy table as its a test for independence, observations are more than 5 and its a random sampling from populatoin"
      ],
      "metadata": {
        "id": "rZihhNY6yVoX"
      }
    },
    {
      "cell_type": "markdown",
      "source": [
        "i have used crosstab function in pandas, to create contengency table."
      ],
      "metadata": {
        "id": "hp0j8eVozkZt"
      }
    },
    {
      "cell_type": "code",
      "source": [
        "# Contingency table\n",
        "contingency_table = pd.crosstab(df['language_preferred'], df['converted'])\n",
        "# Perform the chi-square test for independence\n",
        "from scipy.stats import chi2_contingency\n",
        "\n",
        "chi2, p_value, dof, expected = chi2_contingency(contingency_table)\n",
        "\n",
        "chi2, p_value"
      ],
      "metadata": {
        "colab": {
          "base_uri": "https://localhost:8080/"
        },
        "id": "8NfJ5P0ZxhyP",
        "outputId": "6cc4dfce-1207-42cd-b714-584119ade953"
      },
      "execution_count": 26,
      "outputs": [
        {
          "output_type": "execute_result",
          "data": {
            "text/plain": [
              "(3.0930306905370832, 0.2129888748754345)"
            ]
          },
          "metadata": {},
          "execution_count": 26
        }
      ]
    },
    {
      "cell_type": "markdown",
      "source": [
        "Since the p-value is greater than the significance level (0.05), we fail to reject the null hypothesis."
      ],
      "metadata": {
        "id": "GoN5uTNb01u1"
      }
    },
    {
      "cell_type": "markdown",
      "source": [
        "The chi-square test resulted in a p-value of 0.219, indicating that there is no significant association between preferred language and conversion status.\n",
        "This suggests that the preferred language does not significantly affect whether a user converts or not."
      ],
      "metadata": {
        "id": "MxikWuxf1Bqm"
      }
    },
    {
      "cell_type": "markdown",
      "source": [
        "# Is the Mean Time Spent on the New Page the Same for Different Language Users?"
      ],
      "metadata": {
        "id": "KPWfMqCq2AwP"
      }
    },
    {
      "cell_type": "markdown",
      "source": [
        "We have touched this point in bivariate analyes"
      ],
      "metadata": {
        "id": "2SFotftK2EMV"
      }
    },
    {
      "cell_type": "code",
      "source": [
        "# Filter data for the treatment group (new landing page)\n",
        "treatment_group = df[df['group'] == 'treatment']\n",
        "\n",
        "# Box plot for time spent on the new landing page by preferred language\n",
        "sns.boxplot(x='language_preferred', y='time_spent_on_the_page', data=treatment_group)\n",
        "plt.title('Time Spent on the New Page by Preferred Language')\n",
        "plt.xlabel('Preferred Language')\n",
        "plt.ylabel('Time Spent (seconds)')\n",
        "plt.show()"
      ],
      "metadata": {
        "colab": {
          "base_uri": "https://localhost:8080/",
          "height": 472
        },
        "id": "bnlXWUNQ2C2N",
        "outputId": "cbad301c-e62b-4855-c768-8566a69a3f69"
      },
      "execution_count": 29,
      "outputs": [
        {
          "output_type": "display_data",
          "data": {
            "text/plain": [
              "<Figure size 640x480 with 1 Axes>"
            ],
            "image/png": "[encoded data removed]"
          },
          "metadata": {}
        }
      ]
    },
    {
      "cell_type": "markdown",
      "source": [
        "Formulate Null and Alternative Hypotheses\n",
        "\n",
        "Null Hypothesis (H0): The mean time spent on the new landing page is the same for all preferred languages.\n",
        "\n",
        "H0: μSpanish=μEnglish=μFrench\n",
        "\n",
        "Alternative Hypothesis (H1): The mean time spent on the new landing page is different for at least one preferred language.\n",
        "\n",
        " H1: At least one pair of means is different"
      ],
      "metadata": {
        "id": "yHhflDCo2T7z"
      }
    },
    {
      "cell_type": "markdown",
      "source": [
        "We will use a one-way ANOVA test to determine if there are statistically significant differences in the mean time spent on the new landing page  based on language - we will consider one group treatment for our tests as that is new landing page users group"
      ],
      "metadata": {
        "id": "zLfWUUAp45hR"
      }
    },
    {
      "cell_type": "markdown",
      "source": [
        "There are more than 2 populatoins, sample variations are equal - Assumptions  "
      ],
      "metadata": {
        "id": "YdTGq7ml6pxO"
      }
    },
    {
      "cell_type": "code",
      "source": [
        "# Extract time spent for each language group within the treatment group\n",
        "spanishlang_time = treatment_group[treatment_group['language_preferred'] == 'Spanish']['time_spent_on_the_page']\n",
        "englishlang_time = treatment_group[treatment_group['language_preferred'] == 'English']['time_spent_on_the_page']\n",
        "frenchlang_time = treatment_group[treatment_group['language_preferred'] == 'French']['time_spent_on_the_page']\n",
        "# Perform the one-way ANOVA test\n",
        "from scipy.stats import f_oneway\n",
        "\n",
        "f_stat, p_value = f_oneway(spanishlang_time, englishlang_time, frenchlang_time)\n",
        "\n",
        "f_stat, p_value"
      ],
      "metadata": {
        "colab": {
          "base_uri": "https://localhost:8080/"
        },
        "id": "-B2cLt4G3ZI2",
        "outputId": "a8d9d422-4cbd-4ad6-c91d-0c12d49056c0"
      },
      "execution_count": 33,
      "outputs": [
        {
          "output_type": "execute_result",
          "data": {
            "text/plain": [
              "(0.8543992770006822, 0.43204138694325955)"
            ]
          },
          "metadata": {},
          "execution_count": 33
        }
      ]
    },
    {
      "cell_type": "markdown",
      "source": [
        "Since the p-value is greater than the significance level (0.05), we fail to reject the null hypothesis."
      ],
      "metadata": {
        "id": "zrvBk4sr5iBT"
      }
    },
    {
      "cell_type": "markdown",
      "source": [
        "The test resulted in a p-value of 0.432, indicating no significant differences in the mean time spent on the new landing page among different language users.\n",
        "This suggests that the mean time spent on the new landing page is similar across all preferred languages."
      ],
      "metadata": {
        "id": "0SCqgi255trl"
      }
    }
  ]
}